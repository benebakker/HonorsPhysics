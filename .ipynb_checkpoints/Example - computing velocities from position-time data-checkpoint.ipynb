{
 "cells": [
  {
   "cell_type": "markdown",
   "id": "a094bf51",
   "metadata": {},
   "source": [
    "# Example computing velocity-time points from position-time data"
   ]
  },
  {
   "cell_type": "markdown",
   "id": "9e7a8107",
   "metadata": {},
   "source": [
    "The first thing we need to do is import the position time data from a *.csv file.  To do this we need the pandas library to be able to read files"
   ]
  },
  {
   "cell_type": "code",
   "execution_count": 64,
   "id": "073a5969-9ab7-4e1c-8f41-9d5238e47163",
   "metadata": {},
   "outputs": [],
   "source": [
    "import pandas as pd"
   ]
  },
  {
   "cell_type": "markdown",
   "id": "47c350e7",
   "metadata": {},
   "source": [
    "Now read in the data"
   ]
  },
  {
   "cell_type": "code",
   "execution_count": 65,
   "id": "d0cef0cc-cbd1-4549-af08-0b35194b9269",
   "metadata": {},
   "outputs": [],
   "source": [
    "df = pd.read_csv('falling.csv')"
   ]
  },
  {
   "cell_type": "markdown",
   "id": "8667a613",
   "metadata": {},
   "source": [
    "Check to see if the data has been read and is what we expect"
   ]
  },
  {
   "cell_type": "code",
   "execution_count": 66,
   "id": "c2fe4fe8-c3d4-47eb-aae5-96c8c8297626",
   "metadata": {},
   "outputs": [
    {
     "data": {
      "text/html": [
       "<div>\n",
       "<style scoped>\n",
       "    .dataframe tbody tr th:only-of-type {\n",
       "        vertical-align: middle;\n",
       "    }\n",
       "\n",
       "    .dataframe tbody tr th {\n",
       "        vertical-align: top;\n",
       "    }\n",
       "\n",
       "    .dataframe thead th {\n",
       "        text-align: right;\n",
       "    }\n",
       "</style>\n",
       "<table border=\"1\" class=\"dataframe\">\n",
       "  <thead>\n",
       "    <tr style=\"text-align: right;\">\n",
       "      <th></th>\n",
       "      <th>t</th>\n",
       "      <th>x</th>\n",
       "    </tr>\n",
       "  </thead>\n",
       "  <tbody>\n",
       "    <tr>\n",
       "      <th>0</th>\n",
       "      <td>0.0</td>\n",
       "      <td>0.069020</td>\n",
       "    </tr>\n",
       "    <tr>\n",
       "      <th>1</th>\n",
       "      <td>0.1</td>\n",
       "      <td>0.047324</td>\n",
       "    </tr>\n",
       "    <tr>\n",
       "      <th>2</th>\n",
       "      <td>0.2</td>\n",
       "      <td>0.105433</td>\n",
       "    </tr>\n",
       "    <tr>\n",
       "      <th>3</th>\n",
       "      <td>0.3</td>\n",
       "      <td>0.147989</td>\n",
       "    </tr>\n",
       "    <tr>\n",
       "      <th>4</th>\n",
       "      <td>0.4</td>\n",
       "      <td>0.208851</td>\n",
       "    </tr>\n",
       "  </tbody>\n",
       "</table>\n",
       "</div>"
      ],
      "text/plain": [
       "     t         x\n",
       "0  0.0  0.069020\n",
       "1  0.1  0.047324\n",
       "2  0.2  0.105433\n",
       "3  0.3  0.147989\n",
       "4  0.4  0.208851"
      ]
     },
     "execution_count": 66,
     "metadata": {},
     "output_type": "execute_result"
    }
   ],
   "source": [
    "df.head()"
   ]
  },
  {
   "cell_type": "code",
   "execution_count": 67,
   "id": "e01c682f",
   "metadata": {},
   "outputs": [
    {
     "data": {
      "image/png": "[encoded data removed]",
      "text/plain": [
       "<Figure size 432x288 with 1 Axes>"
      ]
     },
     "metadata": {
      "needs_background": "light"
     },
     "output_type": "display_data"
    }
   ],
   "source": [
    "from matplotlib import pyplot as plt\n",
    " \n",
    "plt.plot(t, x, 'x')\n",
    "plt.show()"
   ]
  },
  {
   "cell_type": "markdown",
   "id": "df3e6d66",
   "metadata": {},
   "source": [
    "This data is now two lists of numbers.  A list in python is a index collection of items, with the index starting at zero.  We can show this below by looking at a few list items individually"
   ]
  },
  {
   "cell_type": "code",
   "execution_count": 68,
   "id": "7b1707cb-8f39-4dda-9718-99835a4120b7",
   "metadata": {},
   "outputs": [
    {
     "name": "stdout",
     "output_type": "stream",
     "text": [
      "0.069020338   0.0\n"
     ]
    }
   ],
   "source": [
    "# the first position point and the first time point\n",
    "print (df.x[0], \" \", df.t[0])"
   ]
  },
  {
   "cell_type": "code",
   "execution_count": 69,
   "id": "3a2f562f",
   "metadata": {},
   "outputs": [
    {
     "name": "stdout",
     "output_type": "stream",
     "text": [
      "0.318351657   0.5\n"
     ]
    }
   ],
   "source": [
    "# lets look at another, say the fourth position time data point\n",
    "print (df.x[5], \" \", df.t[5])"
   ]
  },
  {
   "cell_type": "markdown",
   "id": "d2a0943b",
   "metadata": {
    "tags": []
   },
   "source": [
    "It would be nice to take these lists out of the dataframe (currently given thename df) and just have the position data be called x and the time data be called t"
   ]
  },
  {
   "cell_type": "code",
   "execution_count": 70,
   "id": "58b9b062-6be6-4766-838f-4d5128b121f2",
   "metadata": {},
   "outputs": [],
   "source": [
    "x = df.x\n",
    "t = df.t"
   ]
  },
  {
   "cell_type": "markdown",
   "id": "b991d1ab",
   "metadata": {},
   "source": [
    "check and see if we now have the data in the form we want"
   ]
  },
  {
   "cell_type": "code",
   "execution_count": 71,
   "id": "9fb952d5",
   "metadata": {},
   "outputs": [
    {
     "name": "stdout",
     "output_type": "stream",
     "text": [
      "0.318351657   0.5\n"
     ]
    }
   ],
   "source": [
    "# lets look at another, say the fourth position time data point\n",
    "print (x[5], \" \", t[5])"
   ]
  },
  {
   "cell_type": "markdown",
   "id": "3a48d995",
   "metadata": {},
   "source": [
    "Let's see how long the list of position data is"
   ]
  },
  {
   "cell_type": "code",
   "execution_count": 72,
   "id": "78482feb",
   "metadata": {},
   "outputs": [
    {
     "data": {
      "text/plain": [
       "32"
      ]
     },
     "execution_count": 72,
     "metadata": {},
     "output_type": "execute_result"
    }
   ],
   "source": [
    "len(x)"
   ]
  },
  {
   "cell_type": "markdown",
   "id": "e5e460b1",
   "metadata": {},
   "source": [
    "We need to create a list to hold the veloicty data"
   ]
  },
  {
   "cell_type": "code",
   "execution_count": 73,
   "id": "00b62379",
   "metadata": {},
   "outputs": [],
   "source": [
    "v=[]"
   ]
  },
  {
   "cell_type": "markdown",
   "id": "f70bb1b8",
   "metadata": {},
   "source": [
    "Now compute each velocity and add it to the list\n",
    "\n",
    "First, let's make sure we can iterate through the position data...if we can do this we can assume"
   ]
  },
  {
   "cell_type": "code",
   "execution_count": 74,
   "id": "886aa5dc",
   "metadata": {},
   "outputs": [
    {
     "name": "stdout",
     "output_type": "stream",
     "text": [
      "0\n",
      "1\n",
      "2\n",
      "3\n",
      "4\n",
      "5\n",
      "6\n",
      "7\n",
      "8\n",
      "9\n",
      "10\n",
      "11\n",
      "12\n",
      "13\n",
      "14\n",
      "15\n",
      "16\n",
      "17\n",
      "18\n",
      "19\n",
      "20\n",
      "21\n",
      "22\n",
      "23\n",
      "24\n",
      "25\n",
      "26\n",
      "27\n",
      "28\n",
      "29\n",
      "30\n",
      "31\n"
     ]
    }
   ],
   "source": [
    "for i in range (len(t)):\n",
    "    print(i)"
   ]
  },
  {
   "cell_type": "markdown",
   "id": "2015cb94",
   "metadata": {},
   "source": [
    "Now compute velocites as we go and add it to the velocity list"
   ]
  },
  {
   "cell_type": "code",
   "execution_count": 75,
   "id": "ad4ca86e",
   "metadata": {},
   "outputs": [],
   "source": [
    "for i in range (len(t)-1):\n",
    "    deltaX = x[i+1]-x[i]\n",
    "    deltaT = t[i+1]-t[i]\n",
    "    vnext = deltaX/deltaT\n",
    "    v.append(vnext)"
   ]
  },
  {
   "cell_type": "code",
   "execution_count": 76,
   "id": "3b3a80d7",
   "metadata": {},
   "outputs": [
    {
     "data": {
      "text/plain": [
       "31"
      ]
     },
     "execution_count": 76,
     "metadata": {},
     "output_type": "execute_result"
    }
   ],
   "source": [
    "len(v)"
   ]
  },
  {
   "cell_type": "code",
   "execution_count": 77,
   "id": "2e6120c2",
   "metadata": {},
   "outputs": [],
   "source": [
    "tNew =[]\n",
    "for i in range (len(v)):\n",
    "    t_mid = (t[i] +t[i+1])/2\n",
    "    tNew.append(t_mid)"
   ]
  },
  {
   "cell_type": "code",
   "execution_count": 78,
   "id": "c0954edf",
   "metadata": {},
   "outputs": [
    {
     "data": {
      "image/png": "[encoded data removed]",
      "text/plain": [
       "<Figure size 432x288 with 1 Axes>"
      ]
     },
     "metadata": {
      "needs_background": "light"
     },
     "output_type": "display_data"
    }
   ],
   "source": [
    "plt.plot(tNew, v, 'o')\n",
    "plt.show()"
   ]
  },
  {
   "cell_type": "code",
   "execution_count": null,
   "id": "f843b817",
   "metadata": {},
   "outputs": [],
   "source": []
  }
 ],
 "metadata": {
  "kernelspec": {
   "display_name": "Python 3 (ipykernel)",
   "language": "python",
   "name": "python3"
  },
  "language_info": {
   "codemirror_mode": {
    "name": "ipython",
    "version": 3
   },
   "file_extension": ".py",
   "mimetype": "text/x-python",
   "name": "python",
   "nbconvert_exporter": "python",
   "pygments_lexer": "ipython3",
   "version": "3.9.12"
  }
 },
 "nbformat": 4,
 "nbformat_minor": 5
}
