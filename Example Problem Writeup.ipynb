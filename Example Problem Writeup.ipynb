{
 "cells": [
  {
   "cell_type": "markdown",
   "id": "8f39d848-9000-4243-bfbd-889e956242ba",
   "metadata": {},
   "source": [
    "# Example Problem\n",
    "\n",
    "Jets at JFK International Airport accelerate from rest at one end\n",
    "of a runway, and must attain takeoff speed before reaching the\n",
    "other end of the runway.\n",
    "<br>(a) Plane A has acceleration a and takeoff speed v<sub>to</sub>. What is the\n",
    "minimum length of runway, ∆x<sub>A</sub>, required for this plane? Give a\n",
    "symbolic answer.\n",
    "<br>(b) Plane B has the same acceleration as plane A, but requires\n",
    "twice the takeoff speed. Find ∆x<sub>B</sub> and compare with ∆x<sub>A</sub>.\n",
    "<br>(c) Find the minimum runway length for plane A if a = 2.20 m/s<sup>2</sup>\n",
    "and v<sub>to</sub> = 95.0 m/s. (These values are typical for a 747 jetliner.)"
   ]
  },
  {
   "cell_type": "markdown",
   "id": "de742c47-a5c0-465a-9099-d643deb47c4c",
   "metadata": {},
   "source": [
    "## my solution to part (a)\n",
    "\n",
    "This is a standard constant acceleration problem.  We know\n",
    "-  the acceleration of the plane, a\n",
    "-  the final velocity of the plane, v<sub>to</sub>\n",
    "-  the intitial velocity of the plane - it starts from rest\n",
    "-  we do not know anything about time\n",
    "-  and we want to find the distance it will take this plane to takeoff, which will be equal to the minimum runway length.\n",
    "\n",
    "<p>Since we are given that Plane A undergoes constant acceleration, we can use the equation $$ 2 a \\Delta x = v_f^2 -v_o^2 $$\n",
    "\n"
   ]
  },
  {
   "cell_type": "markdown",
   "id": "f22c9431-ec49-4ec8-9a7c-a8564f6c949f",
   "metadata": {},
   "source": [
    "Or in our case, since V<sub>o</sub> = 0 and v<sub>f</sub> = v<sub>to</sub>, we get $$ 2 a \\Delta x_a = v_{to}^2  $$"
   ]
  },
  {
   "cell_type": "markdown",
   "id": "150a6808-b798-4e8b-b1be-794dd7d5164e",
   "metadata": {},
   "source": [
    "Solving for $ \\Delta x_a $ we get $$ \\Delta x_a = \\frac{v_{to}^2}{2a}\\ $$"
   ]
  },
  {
   "cell_type": "markdown",
   "id": "f161adfd-f33b-423b-a172-6639ce900c33",
   "metadata": {
    "tags": []
   },
   "source": [
    "## Part (b)\n",
    "\n",
    "<br> this time the plane has twice the takeoff velocity, what does that do to our solution?  The logic is the same as ablove with all the quantities being the same, except  v<sub>tob</sub> = 2v<sub>toa</sub>, so we will simply get the answer as $$ \\Delta x_a = \\frac{(2v_{toa})^2}{2a}\\ $$"
   ]
  },
  {
   "cell_type": "markdown",
   "id": "a001172e-079c-4d47-b718-d689d6378a07",
   "metadata": {},
   "source": [
    "Which can be simplified to  $$ \\Delta x_a = \\frac{4v_{toa}^2}{2a} = 4 \\Delta x_a $$"
   ]
  },
  {
   "cell_type": "markdown",
   "id": "dc166e7c-8d25-4e00-97ed-e96d869a74d4",
   "metadata": {},
   "source": [
    "So, Plane B needs four times the runway length as plane A"
   ]
  },
  {
   "cell_type": "markdown",
   "id": "36fa0177-25cf-43ed-a5a9-f33d5c3fdebd",
   "metadata": {},
   "source": [
    "## Part (c)\n",
    "\n",
    "Let's substitute some particular values"
   ]
  },
  {
   "cell_type": "code",
   "execution_count": 4,
   "id": "1312d08c-42a5-4b15-951f-e4c871f6b309",
   "metadata": {},
   "outputs": [],
   "source": [
    "import pint"
   ]
  },
  {
   "cell_type": "code",
   "execution_count": 5,
   "id": "203c570d-59c2-4bf0-8ebc-f3a20cc15839",
   "metadata": {},
   "outputs": [],
   "source": [
    "from pint import UnitRegistry\n",
    "ureg = UnitRegistry()"
   ]
  },
  {
   "cell_type": "code",
   "execution_count": 20,
   "id": "2597eb5c-a52b-49e7-ab89-332c9fd9b060",
   "metadata": {},
   "outputs": [],
   "source": [
    "vTakeOff = 95 * (ureg.meters/ureg.seconds)"
   ]
  },
  {
   "cell_type": "code",
   "execution_count": 21,
   "id": "9b66e55f-6554-49be-95e6-466445a8e7b6",
   "metadata": {},
   "outputs": [
    {
     "name": "stdout",
     "output_type": "stream",
     "text": [
      "95 meter / second\n"
     ]
    }
   ],
   "source": [
    "print(vTakeOff)"
   ]
  },
  {
   "cell_type": "code",
   "execution_count": 26,
   "id": "96ecc712-db19-4732-9dd8-3d19d492f606",
   "metadata": {},
   "outputs": [],
   "source": [
    "accel = 2.2 * (ureg.meters / ureg.seconds/ ureg.seconds)"
   ]
  },
  {
   "cell_type": "code",
   "execution_count": 27,
   "id": "2b462f8f-c79a-4f4b-86a0-c8f1464e1aaa",
   "metadata": {},
   "outputs": [
    {
     "name": "stdout",
     "output_type": "stream",
     "text": [
      "2.2 meter / second ** 2\n"
     ]
    }
   ],
   "source": [
    "print (accel)"
   ]
  },
  {
   "cell_type": "code",
   "execution_count": 35,
   "id": "e58f4215-2401-4bd4-aab0-fccd35363134",
   "metadata": {},
   "outputs": [],
   "source": [
    "minTOLength = (vTakeOff**2)/ (2*accel)"
   ]
  },
  {
   "cell_type": "code",
   "execution_count": 36,
   "id": "6ec986b8-023e-4728-9578-81e16d32936c",
   "metadata": {},
   "outputs": [
    {
     "name": "stdout",
     "output_type": "stream",
     "text": [
      "2051.1363636363635 meter\n"
     ]
    }
   ],
   "source": [
    "print (minTOLength)"
   ]
  },
  {
   "cell_type": "markdown",
   "id": "ca15741f-d759-46fc-98c9-e865ab6965e7",
   "metadata": {},
   "source": [
    "Which is 2 plus kilometers or something over a mile, which seems a bit long (plus that seems like a lot of significant figures...soo shorten that"
   ]
  },
  {
   "cell_type": "code",
   "execution_count": 43,
   "id": "434ad203-5b8e-4a57-9aec-78a9353ef0e7",
   "metadata": {},
   "outputs": [],
   "source": [
    "minTOLengthRounded = round(minTOLength,2)"
   ]
  },
  {
   "cell_type": "code",
   "execution_count": 44,
   "id": "7e58137e-3ba8-4dca-aae7-211e9f50c532",
   "metadata": {},
   "outputs": [
    {
     "name": "stdout",
     "output_type": "stream",
     "text": [
      "2051.14 meter\n"
     ]
    }
   ],
   "source": [
    "print (minTOLengthRounded)"
   ]
  },
  {
   "cell_type": "code",
   "execution_count": null,
   "id": "03cf506a-5cd8-4f0f-b2aa-45b23a5e4f5b",
   "metadata": {},
   "outputs": [],
   "source": []
  }
 ],
 "metadata": {
  "kernelspec": {
   "display_name": "Python 3 (ipykernel)",
   "language": "python",
   "name": "python3"
  },
  "language_info": {
   "codemirror_mode": {
    "name": "ipython",
    "version": 3
   },
   "file_extension": ".py",
   "mimetype": "text/x-python",
   "name": "python",
   "nbconvert_exporter": "python",
   "pygments_lexer": "ipython3",
   "version": "3.9.12"
  }
 },
 "nbformat": 4,
 "nbformat_minor": 5
}
