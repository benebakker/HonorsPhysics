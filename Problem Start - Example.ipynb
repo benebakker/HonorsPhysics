{
 "cells": [
  {
   "cell_type": "markdown",
   "id": "eb1b999c-24fd-4ee7-8abc-eeccd2b880fe",
   "metadata": {},
   "source": [
    "# Mysterious runways"
   ]
  },
  {
   "cell_type": "markdown",
   "id": "d5eb5a4e-d336-4792-85cc-60472994d373",
   "metadata": {
    "tags": []
   },
   "source": [
    "#### In China, far from any city, spy imagery has captured the devlopment of a mysterious three-mile long runway that has invited comaprisons to Area 51 in New Mexico.  Link to a story on this airfield - https://www.npr.org/2021/07/01/1011806020/satellite-photos-show-china-expanding-its-mysterious-desert-airfield "
   ]
  },
  {
   "cell_type": "code",
   "execution_count": 3,
   "id": "168bd561-7fb7-4352-9d56-888810ff05db",
   "metadata": {},
   "outputs": [
    {
     "data": {
      "text/html": [
       "<img src=\"https://media.npr.org/assets/img/2021/06/30/02_overview-of-lop-nur-airfield_28june2021_wv3_custom-4593fa78752de4c61b05bf23c04d9b1a337bc761-s1600-c85.webp\"/>"
      ],
      "text/plain": [
       "<IPython.core.display.Image object>"
      ]
     },
     "execution_count": 3,
     "metadata": {},
     "output_type": "execute_result"
    }
   ],
   "source": [
    "from IPython.display import Image\n",
    "from IPython.core.display import HTML \n",
    "Image(url= \"https://media.npr.org/assets/img/2021/06/30/02_overview-of-lop-nur-airfield_28june2021_wv3_custom-4593fa78752de4c61b05bf23c04d9b1a337bc761-s1600-c85.webp\")"
   ]
  },
  {
   "cell_type": "markdown",
   "id": "74f2593e-2b79-44da-9838-9bf16d354c14",
   "metadata": {},
   "source": [
    "## My analysis"
   ]
  },
  {
   "cell_type": "markdown",
   "id": "498096e0-9463-415f-87b9-6fea0fc3acbe",
   "metadata": {},
   "source": [
    "What if this airfield was being used to land planes that needed very long runways?  Maybe a plane gliding in after reentry from orbi?  What if the Chinese military is developong a plane or aircraft that needs a very long runway to get airborne?  Maybe a very heavy military transport plane?"
   ]
  },
  {
   "cell_type": "markdown",
   "id": "c37f82cb-d8fb-4ed1-bcf0-babccc66dc44",
   "metadata": {},
   "source": [
    "I will investigate the possibility of landing an orbital vehicle.\n",
    "\n",
    "<ul>\n",
    "<li> determine the range of likely landing speeds that would require such a runway </li>\n",
    "</ul>"
   ]
  },
  {
   "cell_type": "markdown",
   "id": "30056d68-2894-429b-a2b5-f8abfd1f5e5c",
   "metadata": {},
   "source": [
    "assumptions\n",
    "\n",
    "<ol>\n",
    "    <li> the vehicle uses at least 70% of the runway, or else why make it so long </li>\n",
    "    <li> the vehicle uses at most 90% of the runway, more than this and that seems to cut the landing parameters too close </li>\n",
    "    <li> the plane brakes with its tires, so coefficient of static friction between rubber and tarmac limits the deceleration </li>\n",
    "  </ol>"
   ]
  },
  {
   "cell_type": "markdown",
   "id": "408f0244-b62f-4e89-90eb-641644bcc6df",
   "metadata": {},
   "source": [
    "So 3 miles is 4828 meters"
   ]
  },
  {
   "cell_type": "markdown",
   "id": "94e8dddb-f3ae-4459-8c74-45390ba8bd9c",
   "metadata": {},
   "source": [
    "delta x max is 0.9 * 4828m = 4345 m"
   ]
  },
  {
   "cell_type": "markdown",
   "id": "62f87b99-a926-46fa-9788-dbae01e8348d",
   "metadata": {},
   "source": [
    "delta x min is 0.7 * 4828m = 3380 m"
   ]
  },
  {
   "cell_type": "markdown",
   "id": "9e1edc5d-1096-4234-a84f-4e9126da9b7e",
   "metadata": {},
   "source": [
    "Let's say acceration is 0.47 gs"
   ]
  },
  {
   "cell_type": "markdown",
   "id": "829de949-b448-44ca-9cc8-82fda8aa0202",
   "metadata": {},
   "source": [
    "to find v, assuming constat acceleration, and a final veocity of zero v<sub>f</sub>=0"
   ]
  },
  {
   "cell_type": "markdown",
   "id": "f0a3135c-1e05-4a31-8cb1-c77f92610d97",
   "metadata": {},
   "source": [
    "We can use 2 a delta x = v<sub>f</sub><super>2</super> - v<sub>o</sub><super>2</super>"
   ]
  },
  {
   "cell_type": "markdown",
   "id": "7838ee4c-500f-4f28-a434-2b6a837558bb",
   "metadata": {},
   "source": [
    "solve for v<sub>o</sub>, which is v<sub>o</sub> = sqrt(2 a delta x)"
   ]
  },
  {
   "cell_type": "markdown",
   "id": "351ba20a-1020-4c14-9079-43dc22a2a6f1",
   "metadata": {},
   "source": [
    "So V<sub>o min</sub> = sqrt ( 2 * 4.6 m/s2 3380m) = 176 m/s"
   ]
  },
  {
   "cell_type": "markdown",
   "id": "d689ece3-0e64-426f-b0fe-589d4db4b913",
   "metadata": {},
   "source": [
    "and V<sub>o max</sub> = sqrt ( 2 * 4.6 m/s<super>2</super> 4345m) = 199 m/s"
   ]
  },
  {
   "cell_type": "markdown",
   "id": "056f89ec-31d5-41f7-a65e-5741bb51d7c2",
   "metadata": {},
   "source": [
    "Looks like this is a runway for an aircraft with a landing velocity of 176 m/s (394 mph) to 199 m/s (445 mph) "
   ]
  },
  {
   "cell_type": "markdown",
   "id": "8eafc702-c8a3-4696-9b67-d205e0879a10",
   "metadata": {},
   "source": [
    "The space shuttle touches down at speeds from 214 to 226 miles per hour, so much faster than the space shuttle"
   ]
  },
  {
   "cell_type": "markdown",
   "id": "9c02f900-3f28-4d8e-99d7-6e282454690a",
   "metadata": {},
   "source": [
    "but the space shuttle deploys a parachute, so lets model this as a two part process, braking with brakes, then braking with a parachute....to be continued"
   ]
  },
  {
   "cell_type": "code",
   "execution_count": null,
   "id": "cafd0ddc-a8d5-4155-95c3-621d3cfa8090",
   "metadata": {},
   "outputs": [],
   "source": []
  }
 ],
 "metadata": {
  "kernelspec": {
   "display_name": "Python 3 (ipykernel)",
   "language": "python",
   "name": "python3"
  },
  "language_info": {
   "codemirror_mode": {
    "name": "ipython",
    "version": 3
   },
   "file_extension": ".py",
   "mimetype": "text/x-python",
   "name": "python",
   "nbconvert_exporter": "python",
   "pygments_lexer": "ipython3",
   "version": "3.9.12"
  }
 },
 "nbformat": 4,
 "nbformat_minor": 5
}
