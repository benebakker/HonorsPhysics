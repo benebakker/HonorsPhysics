{
 "cells": [
  {
   "cell_type": "code",
   "execution_count": 5,
   "id": "073a5969-9ab7-4e1c-8f41-9d5238e47163",
   "metadata": {},
   "outputs": [],
   "source": [
    "import pandas as pd"
   ]
  },
  {
   "cell_type": "code",
   "execution_count": 6,
   "id": "d0cef0cc-cbd1-4549-af08-0b35194b9269",
   "metadata": {},
   "outputs": [],
   "source": [
    "df = pd.read_csv('falling.csv')"
   ]
  },
  {
   "cell_type": "code",
   "execution_count": 7,
   "id": "c2fe4fe8-c3d4-47eb-aae5-96c8c8297626",
   "metadata": {},
   "outputs": [
    {
     "data": {
      "text/html": [
       "<div>\n",
       "<style scoped>\n",
       "    .dataframe tbody tr th:only-of-type {\n",
       "        vertical-align: middle;\n",
       "    }\n",
       "\n",
       "    .dataframe tbody tr th {\n",
       "        vertical-align: top;\n",
       "    }\n",
       "\n",
       "    .dataframe thead th {\n",
       "        text-align: right;\n",
       "    }\n",
       "</style>\n",
       "<table border=\"1\" class=\"dataframe\">\n",
       "  <thead>\n",
       "    <tr style=\"text-align: right;\">\n",
       "      <th></th>\n",
       "      <th>t</th>\n",
       "      <th>x</th>\n",
       "    </tr>\n",
       "  </thead>\n",
       "  <tbody>\n",
       "    <tr>\n",
       "      <th>0</th>\n",
       "      <td>0.0</td>\n",
       "      <td>0.000000</td>\n",
       "    </tr>\n",
       "    <tr>\n",
       "      <th>1</th>\n",
       "      <td>0.1</td>\n",
       "      <td>0.057732</td>\n",
       "    </tr>\n",
       "    <tr>\n",
       "      <th>2</th>\n",
       "      <td>0.2</td>\n",
       "      <td>0.316595</td>\n",
       "    </tr>\n",
       "    <tr>\n",
       "      <th>3</th>\n",
       "      <td>0.3</td>\n",
       "      <td>0.525631</td>\n",
       "    </tr>\n",
       "    <tr>\n",
       "      <th>4</th>\n",
       "      <td>0.4</td>\n",
       "      <td>1.158112</td>\n",
       "    </tr>\n",
       "  </tbody>\n",
       "</table>\n",
       "</div>"
      ],
      "text/plain": [
       "     t         x\n",
       "0  0.0  0.000000\n",
       "1  0.1  0.057732\n",
       "2  0.2  0.316595\n",
       "3  0.3  0.525631\n",
       "4  0.4  1.158112"
      ]
     },
     "execution_count": 7,
     "metadata": {},
     "output_type": "execute_result"
    }
   ],
   "source": [
    "df.head()"
   ]
  },
  {
   "cell_type": "markdown",
   "id": "4211e161-6e6a-40ec-9307-e78922642aed",
   "metadata": {
    "tags": []
   },
   "source": [
    "Used https://www.geeksforgeeks.org/scipy-curve-fitting/ as a resource"
   ]
  },
  {
   "cell_type": "code",
   "execution_count": 1,
   "id": "4999f48a-0409-4df7-ba07-8dafa69e3f03",
   "metadata": {},
   "outputs": [],
   "source": [
    "import numpy as np\n",
    "\n",
    "# curve-fit() function imported from scipy\n",
    "from scipy.optimize import curve_fit"
   ]
  },
  {
   "cell_type": "code",
   "execution_count": 2,
   "id": "7b1707cb-8f39-4dda-9718-99835a4120b7",
   "metadata": {},
   "outputs": [],
   "source": [
    "# Test function with coefficients as parameters\n",
    "def test(x, a):\n",
    "    return a * x * x"
   ]
  },
  {
   "cell_type": "code",
   "execution_count": 8,
   "id": "bfd3103c-dd70-446e-a931-8020a3a6ab4f",
   "metadata": {},
   "outputs": [],
   "source": [
    "param, param_cov = curve_fit(test, df.t, df.x)"
   ]
  },
  {
   "cell_type": "code",
   "execution_count": 10,
   "id": "367bf94b-d01d-4e6b-a83a-cf7c4cb9f843",
   "metadata": {
    "tags": []
   },
   "outputs": [
    {
     "name": "stdout",
     "output_type": "stream",
     "text": [
      "a coefficient:\n",
      "[5.17903814]\n",
      "Covariance of coefficient:\n",
      "[[0.0005149]]\n"
     ]
    }
   ],
   "source": [
    "print(\"a coefficient:\")\n",
    "print(param)\n",
    "print(\"Covariance of coefficient:\")\n",
    "print(param_cov)"
   ]
  },
  {
   "cell_type": "code",
   "execution_count": 13,
   "id": "58b9b062-6be6-4766-838f-4d5128b121f2",
   "metadata": {},
   "outputs": [],
   "source": [
    "ans = (param[0]*df.t*df.t)"
   ]
  },
  {
   "cell_type": "code",
   "execution_count": 14,
   "id": "9e239659-1cf9-494a-a868-a02cb59c0dd7",
   "metadata": {},
   "outputs": [
    {
     "data": {
      "image/png": "[encoded data removed]",
      "text/plain": [
       "<Figure size 432x288 with 1 Axes>"
      ]
     },
     "metadata": {
      "needs_background": "light"
     },
     "output_type": "display_data"
    }
   ],
   "source": [
    "from matplotlib import pyplot as plt\n",
    " \n",
    "plt.plot(df.t, df.x, 'o', color ='red', label =\"data\")\n",
    "plt.plot(df.t, ans, '--', color ='blue', label =\"optimized data\")\n",
    "plt.legend()\n",
    "plt.show()"
   ]
  },
  {
   "cell_type": "code",
   "execution_count": 1,
   "id": "fdfb8b6b-54e0-4ead-99d8-3993b2a339e0",
   "metadata": {},
   "outputs": [
    {
     "data": {
      "text/html": [
       "<div id=\"glowscript\" class=\"glowscript\"></div>"
      ],
      "text/plain": [
       "<IPython.core.display.HTML object>"
      ]
     },
     "metadata": {},
     "output_type": "display_data"
    },
    {
     "data": {
      "application/javascript": [
       "if (typeof Jupyter !== \"undefined\") { window.__context = { glowscript_container: $(\"#glowscript\").removeAttr(\"id\")};}else{ element.textContent = ' ';}"
      ],
      "text/plain": [
       "<IPython.core.display.Javascript object>"
      ]
     },
     "metadata": {},
     "output_type": "display_data"
    }
   ],
   "source": [
    "import vpython as vp"
   ]
  },
  {
   "cell_type": "code",
   "execution_count": null,
   "id": "915cff1f-1527-4ee0-a154-0dc8b80be979",
   "metadata": {},
   "outputs": [],
   "source": []
  }
 ],
 "metadata": {
  "kernelspec": {
   "display_name": "Python 3 (ipykernel)",
   "language": "python",
   "name": "python3"
  },
  "language_info": {
   "codemirror_mode": {
    "name": "ipython",
    "version": 3
   },
   "file_extension": ".py",
   "mimetype": "text/x-python",
   "name": "python",
   "nbconvert_exporter": "python",
   "pygments_lexer": "ipython3",
   "version": "3.9.12"
  }
 },
 "nbformat": 4,
 "nbformat_minor": 5
}
