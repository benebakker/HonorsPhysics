{
 "cells": [
  {
   "cell_type": "markdown",
   "id": "2dd20a06",
   "metadata": {},
   "source": [
    "## Compound Interest - An Example of For and While Loops and Plotting"
   ]
  },
  {
   "cell_type": "markdown",
   "id": "1b35dcf1",
   "metadata": {},
   "source": [
    "### initial conditions\n",
    "initial investment - $100\n",
    "interest rate - 4 percent per year"
   ]
  },
  {
   "cell_type": "code",
   "execution_count": 1,
   "id": "c45f380b",
   "metadata": {},
   "outputs": [],
   "source": [
    "i0 = 100\n",
    "rate = 0.04"
   ]
  },
  {
   "cell_type": "markdown",
   "id": "43953ba2",
   "metadata": {},
   "source": [
    "Compute 20 years of compoounded interest"
   ]
  },
  {
   "cell_type": "code",
   "execution_count": 3,
   "id": "390a1e3f",
   "metadata": {},
   "outputs": [
    {
     "name": "stdout",
     "output_type": "stream",
     "text": [
      "year :  0 \t value :  100\n",
      "year :  1 \t value :  104.0\n",
      "year :  2 \t value :  108.16\n",
      "year :  3 \t value :  112.4864\n",
      "year :  4 \t value :  116.985856\n",
      "year :  5 \t value :  121.66529024\n",
      "year :  6 \t value :  126.5319018496\n",
      "year :  7 \t value :  131.593177923584\n",
      "year :  8 \t value :  136.85690504052735\n",
      "year :  9 \t value :  142.33118124214843\n",
      "year :  10 \t value :  148.02442849183436\n",
      "year :  11 \t value :  153.94540563150773\n",
      "year :  12 \t value :  160.10322185676804\n",
      "year :  13 \t value :  166.50735073103877\n",
      "year :  14 \t value :  173.16764476028033\n",
      "year :  15 \t value :  180.09435055069153\n",
      "year :  16 \t value :  187.2981245727192\n",
      "year :  17 \t value :  194.79004955562795\n",
      "year :  18 \t value :  202.58165153785308\n",
      "year :  19 \t value :  210.6849175993672\n"
     ]
    }
   ],
   "source": [
    "icurrent = i0\n",
    "year = 0\n",
    "for i in range (20):\n",
    "    inext = icurrent + icurrent*rate\n",
    "    print(\"year : \", year,\"\\t value : \", icurrent)\n",
    "    icurrent = inext\n",
    "    year = year +1"
   ]
  },
  {
   "cell_type": "markdown",
   "id": "aba7a013",
   "metadata": {},
   "source": [
    "now use a while loop - let's ask how long it would take to earn $300"
   ]
  },
  {
   "cell_type": "code",
   "execution_count": 4,
   "id": "6b82ad57",
   "metadata": {},
   "outputs": [
    {
     "name": "stdout",
     "output_type": "stream",
     "text": [
      "year :  0 \t value :  100\n",
      "year :  1 \t value :  104.0\n",
      "year :  2 \t value :  108.16\n",
      "year :  3 \t value :  112.4864\n",
      "year :  4 \t value :  116.985856\n",
      "year :  5 \t value :  121.66529024\n",
      "year :  6 \t value :  126.5319018496\n",
      "year :  7 \t value :  131.593177923584\n",
      "year :  8 \t value :  136.85690504052735\n",
      "year :  9 \t value :  142.33118124214843\n",
      "year :  10 \t value :  148.02442849183436\n",
      "year :  11 \t value :  153.94540563150773\n",
      "year :  12 \t value :  160.10322185676804\n",
      "year :  13 \t value :  166.50735073103877\n",
      "year :  14 \t value :  173.16764476028033\n",
      "year :  15 \t value :  180.09435055069153\n",
      "year :  16 \t value :  187.2981245727192\n",
      "year :  17 \t value :  194.79004955562795\n",
      "year :  18 \t value :  202.58165153785308\n",
      "year :  19 \t value :  210.6849175993672\n",
      "year :  20 \t value :  219.1123143033419\n",
      "year :  21 \t value :  227.87680687547555\n",
      "year :  22 \t value :  236.99187915049458\n",
      "year :  23 \t value :  246.47155431651436\n",
      "year :  24 \t value :  256.3304164891749\n",
      "year :  25 \t value :  266.5836331487419\n",
      "year :  26 \t value :  277.24697847469156\n",
      "year :  27 \t value :  288.33685761367923\n",
      "year :  28 \t value :  299.8703319182264\n"
     ]
    }
   ],
   "source": [
    "icurrent = i0\n",
    "year = 0\n",
    "while (icurrent <300):\n",
    "    inext = icurrent + icurrent*rate\n",
    "    print(\"year : \", year,\"\\t value : \", icurrent)\n",
    "    icurrent = inext\n",
    "    year = year +1"
   ]
  },
  {
   "cell_type": "markdown",
   "id": "a81ee8d4",
   "metadata": {},
   "source": [
    "Now, show data points as a XY scatterplot"
   ]
  },
  {
   "cell_type": "code",
   "execution_count": 21,
   "id": "1c46aa93",
   "metadata": {},
   "outputs": [],
   "source": [
    "from matplotlib import pyplot as plt"
   ]
  },
  {
   "cell_type": "code",
   "execution_count": 22,
   "id": "ee497c35",
   "metadata": {},
   "outputs": [
    {
     "data": {
      "image/png": "[encoded data removed]",
      "text/plain": [
       "<Figure size 432x288 with 1 Axes>"
      ]
     },
     "metadata": {
      "needs_background": "light"
     },
     "output_type": "display_data"
    }
   ],
   "source": [
    "icurrent = i0\n",
    "year = 0\n",
    "while icurrent <300:\n",
    "    icurrent = icurrent + icurrent*rate\n",
    "    plt.plot(year, icurrent , 'o', color ='red', label =\"data\")\n",
    "    year = year +1\n",
    "plt.show()"
   ]
  }
 ],
 "metadata": {
  "kernelspec": {
   "display_name": "Python 3 (ipykernel)",
   "language": "python",
   "name": "python3"
  },
  "language_info": {
   "codemirror_mode": {
    "name": "ipython",
    "version": 3
   },
   "file_extension": ".py",
   "mimetype": "text/x-python",
   "name": "python",
   "nbconvert_exporter": "python",
   "pygments_lexer": "ipython3",
   "version": "3.9.12"
  }
 },
 "nbformat": 4,
 "nbformat_minor": 5
}
