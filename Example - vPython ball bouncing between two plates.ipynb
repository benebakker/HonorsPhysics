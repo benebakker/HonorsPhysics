{
 "cells": [
  {
   "cell_type": "markdown",
   "id": "c0a370ec",
   "metadata": {},
   "source": [
    "## ball bouncing between two plates"
   ]
  },
  {
   "cell_type": "code",
   "execution_count": 1,
   "id": "798e5f26",
   "metadata": {},
   "outputs": [
    {
     "data": {
      "text/html": [
       "<div id=\"glowscript\" class=\"glowscript\"></div>"
      ],
      "text/plain": [
       "<IPython.core.display.HTML object>"
      ]
     },
     "metadata": {},
     "output_type": "display_data"
    },
    {
     "data": {
      "application/javascript": [
       "if (typeof Jupyter !== \"undefined\") { window.__context = { glowscript_container: $(\"#glowscript\").removeAttr(\"id\")};}else{ element.textContent = ' ';}"
      ],
      "text/plain": [
       "<IPython.core.display.Javascript object>"
      ]
     },
     "metadata": {},
     "output_type": "display_data"
    }
   ],
   "source": [
    "from vpython import *\n",
    "from math import *"
   ]
  },
  {
   "cell_type": "markdown",
   "id": "0b5e1e2f",
   "metadata": {},
   "source": [
    "setup the ball's initial conditions"
   ]
  },
  {
   "cell_type": "code",
   "execution_count": 2,
   "id": "302a4eb9",
   "metadata": {},
   "outputs": [
    {
     "data": {
      "application/javascript": [
       "if (typeof Jupyter !== \"undefined\") {require.undef(\"nbextensions/vpython_libraries/glow.min\");}else{element.textContent = ' ';}"
      ],
      "text/plain": [
       "<IPython.core.display.Javascript object>"
      ]
     },
     "metadata": {},
     "output_type": "display_data"
    },
    {
     "data": {
      "application/javascript": [
       "if (typeof Jupyter !== \"undefined\") {require.undef(\"nbextensions/vpython_libraries/glowcomm\");}else{element.textContent = ' ';}"
      ],
      "text/plain": [
       "<IPython.core.display.Javascript object>"
      ]
     },
     "metadata": {},
     "output_type": "display_data"
    },
    {
     "data": {
      "application/javascript": [
       "if (typeof Jupyter !== \"undefined\") {require.undef(\"nbextensions/vpython_libraries/jquery-ui.custom.min\");}else{element.textContent = ' ';}"
      ],
      "text/plain": [
       "<IPython.core.display.Javascript object>"
      ]
     },
     "metadata": {},
     "output_type": "display_data"
    },
    {
     "data": {
      "application/javascript": [
       "if (typeof Jupyter !== \"undefined\") {require([\"nbextensions/vpython_libraries/glow.min\"], function(){console.log(\"GLOW LOADED\");});}else{element.textContent = ' ';}"
      ],
      "text/plain": [
       "<IPython.core.display.Javascript object>"
      ]
     },
     "metadata": {},
     "output_type": "display_data"
    },
    {
     "data": {
      "application/javascript": [
       "if (typeof Jupyter !== \"undefined\") {require([\"nbextensions/vpython_libraries/glowcomm\"], function(){console.log(\"GLOWCOMM LOADED\");});}else{element.textContent = ' ';}"
      ],
      "text/plain": [
       "<IPython.core.display.Javascript object>"
      ]
     },
     "metadata": {},
     "output_type": "display_data"
    },
    {
     "data": {
      "application/javascript": [
       "if (typeof Jupyter !== \"undefined\") {require([\"nbextensions/vpython_libraries/jquery-ui.custom.min\"], function(){console.log(\"JQUERY LOADED\");});}else{element.textContent = ' ';}"
      ],
      "text/plain": [
       "<IPython.core.display.Javascript object>"
      ]
     },
     "metadata": {},
     "output_type": "display_data"
    }
   ],
   "source": [
    "ballPos = vector(0,0,0)\n",
    "ballRadius = 0.1\n",
    "ballVelocity = 1\n",
    "ball = sphere(pos=ballPos, radius = ballRadius, color=color.yellow)"
   ]
  },
  {
   "cell_type": "markdown",
   "id": "3ad4a9e8",
   "metadata": {},
   "source": [
    "setup left wall"
   ]
  },
  {
   "cell_type": "code",
   "execution_count": 3,
   "id": "892f070a",
   "metadata": {},
   "outputs": [],
   "source": [
    "leftWallPos = vector(-1,0,0)\n",
    "leftWallSize = vector(0.1,5,5)\n",
    "leftWall = box(pos = leftWallPos, size = leftWallSize, color = color.green)"
   ]
  },
  {
   "cell_type": "markdown",
   "id": "59391290",
   "metadata": {},
   "source": [
    "setup right wall"
   ]
  },
  {
   "cell_type": "code",
   "execution_count": 4,
   "id": "eefc2385",
   "metadata": {},
   "outputs": [],
   "source": [
    "rightWallPos = vector(1,0,0)\n",
    "rightWallSize = vector(0.1,5,5)\n",
    "rightWall = box(pos = rightWallPos, size = rightWallSize, color = color.green)"
   ]
  },
  {
   "cell_type": "markdown",
   "id": "1f48109f",
   "metadata": {},
   "source": [
    "define time interval"
   ]
  },
  {
   "cell_type": "code",
   "execution_count": 5,
   "id": "9e5fb1a0",
   "metadata": {},
   "outputs": [],
   "source": [
    "dt=0.01"
   ]
  },
  {
   "cell_type": "code",
   "execution_count": 8,
   "id": "9a3a9131",
   "metadata": {},
   "outputs": [],
   "source": [
    "# Euler Method\n",
    "#\n",
    "# bounce the ball six times\n",
    "\n",
    "bounces = 0\n",
    "while bounces < 6:\n",
    "    rate(200)\n",
    "    ball.pos = ball.pos + vector(ballVelocity*dt,0,0)\n",
    "    if(ball.pos.x < -.9 or ball.pos.x >.9):\n",
    "        ballVelocity = -ballVelocity\n",
    "        bounces=bounces+1\n",
    "    "
   ]
  }
 ],
 "metadata": {
  "kernelspec": {
   "display_name": "Python 3 (ipykernel)",
   "language": "python",
   "name": "python3"
  },
  "language_info": {
   "codemirror_mode": {
    "name": "ipython",
    "version": 3
   },
   "file_extension": ".py",
   "mimetype": "text/x-python",
   "name": "python",
   "nbconvert_exporter": "python",
   "pygments_lexer": "ipython3",
   "version": "3.9.12"
  }
 },
 "nbformat": 4,
 "nbformat_minor": 5
}
